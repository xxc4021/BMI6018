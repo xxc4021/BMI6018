{
 "cells": [
  {
   "cell_type": "code",
   "execution_count": 1,
   "metadata": {},
   "outputs": [
    {
     "name": "stdout",
     "output_type": "stream",
     "text": [
      "2\n"
     ]
    }
   ],
   "source": [
    "# Booleans\n",
    "# boolean True + boolean True - boolean False = ?  \n",
    "print(True + True - False) "
   ]
  },
  {
   "cell_type": "code",
   "execution_count": 2,
   "metadata": {},
   "outputs": [
    {
     "name": "stdout",
     "output_type": "stream",
     "text": [
      "1\n"
     ]
    }
   ],
   "source": [
    "# Booleans\n",
    "# logical tracker = True\n",
    "# logical tracker = logical tracker & logical tracker\n",
    "# logical tracker = logical tracker | (logical tracker - logical tracker)\n",
    "# logical tracker  = ?\n",
    "# (note: here the response we are looking for the last assigned value of the logical tracker, denoted here by question mark (?) )\n",
    "logical_tracker = True\n",
    "logical_tracker = logical_tracker & logical_tracker\n",
    "logical_tracker = logical_tracker | (logical_tracker - logical_tracker)\n",
    "print(logical_tracker)"
   ]
  },
  {
   "cell_type": "code",
   "execution_count": 3,
   "metadata": {},
   "outputs": [
    {
     "name": "stdout",
     "output_type": "stream",
     "text": [
      " \n"
     ]
    }
   ],
   "source": [
    "# strings\n",
    "# string = \"E. Coli\"\n",
    "# string[2]=\n",
    "string = \"E. Coli\"\n",
    "print(string[2])    "
   ]
  },
  {
   "cell_type": "code",
   "execution_count": 4,
   "metadata": {},
   "outputs": [
    {
     "ename": "TypeError",
     "evalue": "'str' object does not support item assignment",
     "output_type": "error",
     "traceback": [
      "\u001b[1;31m---------------------------------------------------------------------------\u001b[0m",
      "\u001b[1;31mTypeError\u001b[0m                                 Traceback (most recent call last)",
      "Cell \u001b[1;32mIn[4], line 7\u001b[0m\n\u001b[0;32m      1\u001b[0m \u001b[39m# strings\u001b[39;00m\n\u001b[0;32m      2\u001b[0m \u001b[39m# Oh no! My string has a typo!\u001b[39;00m\n\u001b[0;32m      3\u001b[0m \u001b[39m# string = \"I Bove python\"\u001b[39;00m\n\u001b[0;32m      4\u001b[0m \u001b[39m# No worries though. I'll just fix that.\u001b[39;00m\n\u001b[0;32m      5\u001b[0m \u001b[39m# string[2]=\"L\"\u001b[39;00m\n\u001b[0;32m      6\u001b[0m string \u001b[39m=\u001b[39m \u001b[39m\"\u001b[39m\u001b[39mI Bove python\u001b[39m\u001b[39m\"\u001b[39m\n\u001b[1;32m----> 7\u001b[0m string[\u001b[39m2\u001b[39;49m] \u001b[39m=\u001b[39m \u001b[39m\"\u001b[39m\u001b[39mL\u001b[39m\u001b[39m\"\u001b[39m\n\u001b[0;32m      8\u001b[0m \u001b[39mprint\u001b[39m(string)\n",
      "\u001b[1;31mTypeError\u001b[0m: 'str' object does not support item assignment"
     ]
    }
   ],
   "source": [
    "# strings\n",
    "# Oh no! My string has a typo!\n",
    "# string = \"I Bove python\"\n",
    "# No worries though. I'll just fix that.\n",
    "# string[2]=\"L\"\n",
    "string = \"I Bove python\"\n",
    "string[2] = \"L\"\n",
    "print(string)"
   ]
  },
  {
   "cell_type": "code",
   "execution_count": 5,
   "metadata": {},
   "outputs": [
    {
     "name": "stdout",
     "output_type": "stream",
     "text": [
      "3\n",
      "12\n"
     ]
    }
   ],
   "source": [
    "# Explain how the \"+\", addition operation works differently for integers and strings.\n",
    "# integers\n",
    "a=1\n",
    "b=2\n",
    "print(a+b)\n",
    "# strings\n",
    "a=\"1\"\n",
    "b=\"2\"\n",
    "print(a+b)"
   ]
  },
  {
   "cell_type": "code",
   "execution_count": 6,
   "metadata": {},
   "outputs": [
    {
     "name": "stdout",
     "output_type": "stream",
     "text": [
      "73\n"
     ]
    }
   ],
   "source": [
    "# strings\n",
    "# Type the output if the strings \"7\" and \"3\" are added.\n",
    "print(\"7\"+\"3\")"
   ]
  }
 ],
 "metadata": {
  "kernelspec": {
   "display_name": "Python 3",
   "language": "python",
   "name": "python3"
  },
  "language_info": {
   "codemirror_mode": {
    "name": "ipython",
    "version": 3
   },
   "file_extension": ".py",
   "mimetype": "text/x-python",
   "name": "python",
   "nbconvert_exporter": "python",
   "pygments_lexer": "ipython3",
   "version": "3.11.5"
  },
  "orig_nbformat": 4
 },
 "nbformat": 4,
 "nbformat_minor": 2
}
