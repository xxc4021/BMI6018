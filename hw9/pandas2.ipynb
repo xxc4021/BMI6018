{
 "cells": [
  {
   "cell_type": "code",
   "execution_count": 6,
   "metadata": {},
   "outputs": [
    {
     "name": "stdout",
     "output_type": "stream",
     "text": [
      "18.16590212458495\n"
     ]
    }
   ],
   "source": [
    "'''\n",
    "Compute the euclidean distance between series (points) p and q, without using a packaged formula.\n",
    "Input\n",
    "p = pd.Series([1, 2, 3, 4, 5, 6, 7, 8, 9, 10])\n",
    "q = pd.Series([10, 9, 8, 7, 6, 5, 4, 3, 2, 1])\n",
    "'''\n",
    "import numpy as np\n",
    "import pandas as pd\n",
    "p = pd.Series([1, 2, 3, 4, 5, 6, 7, 8, 9, 10])\n",
    "q = pd.Series([10, 9, 8, 7, 6, 5, 4, 3, 2, 1])\n",
    "#p and q should have the same length\n",
    "if len(p) == len(q):\n",
    "    euclidean_distance = 0\n",
    "    for i in range(len(p)):\n",
    "        euclidean_distance += ((p[i]-q[i])**2)\n",
    "    euclidean_distance = euclidean_distance**0.5\n",
    "# Calculate the Euclidean distance\n",
    "print(euclidean_distance)"
   ]
  },
  {
   "cell_type": "code",
   "execution_count": 7,
   "metadata": {},
   "outputs": [
    {
     "name": "stdout",
     "output_type": "stream",
     "text": [
      "    c   b   a   d   e\n",
      "0   2   1   0   3   4\n",
      "1   7   6   5   8   9\n",
      "2  12  11  10  13  14\n",
      "3  17  16  15  18  19\n"
     ]
    }
   ],
   "source": [
    "'''Change the order of columns of a dataframe. Interchange columns 'a' and 'c'.\n",
    "Input\n",
    "df = pd.DataFrame(np.arange(20).reshape(-1, 5), columns=list('abcde'))'''\n",
    "df = pd.DataFrame(np.arange(20).reshape(-1, 5), columns=list('abcde'))\n",
    "df = df[['c','b','a','d','e']]\n",
    "#Interchange columns 'a' and 'c'\n",
    "print(df)\n",
    "\n"
   ]
  },
  {
   "cell_type": "code",
   "execution_count": 93,
   "metadata": {},
   "outputs": [
    {
     "data": {
      "text/html": [
       "<div>\n",
       "<style scoped>\n",
       "    .dataframe tbody tr th:only-of-type {\n",
       "        vertical-align: middle;\n",
       "    }\n",
       "\n",
       "    .dataframe tbody tr th {\n",
       "        vertical-align: top;\n",
       "    }\n",
       "\n",
       "    .dataframe thead th {\n",
       "        text-align: right;\n",
       "    }\n",
       "</style>\n",
       "<table border=\"1\" class=\"dataframe\">\n",
       "  <thead>\n",
       "    <tr style=\"text-align: right;\">\n",
       "      <th></th>\n",
       "      <th>c</th>\n",
       "      <th>b</th>\n",
       "      <th>a</th>\n",
       "      <th>d</th>\n",
       "      <th>e</th>\n",
       "    </tr>\n",
       "  </thead>\n",
       "  <tbody>\n",
       "    <tr>\n",
       "      <th>0</th>\n",
       "      <td>2</td>\n",
       "      <td>1</td>\n",
       "      <td>0</td>\n",
       "      <td>3</td>\n",
       "      <td>4</td>\n",
       "    </tr>\n",
       "    <tr>\n",
       "      <th>1</th>\n",
       "      <td>7</td>\n",
       "      <td>6</td>\n",
       "      <td>5</td>\n",
       "      <td>8</td>\n",
       "      <td>9</td>\n",
       "    </tr>\n",
       "    <tr>\n",
       "      <th>2</th>\n",
       "      <td>12</td>\n",
       "      <td>11</td>\n",
       "      <td>10</td>\n",
       "      <td>13</td>\n",
       "      <td>14</td>\n",
       "    </tr>\n",
       "    <tr>\n",
       "      <th>3</th>\n",
       "      <td>17</td>\n",
       "      <td>16</td>\n",
       "      <td>15</td>\n",
       "      <td>18</td>\n",
       "      <td>19</td>\n",
       "    </tr>\n",
       "  </tbody>\n",
       "</table>\n",
       "</div>"
      ],
      "text/plain": [
       "    c   b   a   d   e\n",
       "0   2   1   0   3   4\n",
       "1   7   6   5   8   9\n",
       "2  12  11  10  13  14\n",
       "3  17  16  15  18  19"
      ]
     },
     "execution_count": 93,
     "metadata": {},
     "output_type": "execute_result"
    }
   ],
   "source": [
    "'''Change the order of columns of a dataframe.  Create a generic function to interchange two columns, without hardcoding column names.\n",
    "Input\n",
    "df = pd.DataFrame(np.arange(20).reshape(-1, 5), columns=list('abcde'))'''\n",
    "def interchange(df,column1,column2):\n",
    "    columns=df.columns.tolist()\n",
    "    index1 = columns.index(column1)\n",
    "    index2 = columns.index(column2)\n",
    "    columns[index1],columns[index2] = columns[index2],columns[index1]\n",
    "    # Swap the columns\n",
    "    return df[columns]\n",
    "df = pd.DataFrame(np.arange(20).reshape(-1, 5), columns=list('abcde'))\n",
    "df_new = interchange(df,'a','c')\n",
    "#Interchange columns 'a' and 'c'\n",
    "df_new\n"
   ]
  },
  {
   "cell_type": "code",
   "execution_count": 9,
   "metadata": {},
   "outputs": [
    {
     "name": "stdout",
     "output_type": "stream",
     "text": [
      "         random\n",
      "0  4.191415e-09\n",
      "1  6.710224e-01\n",
      "2  2.418607e-06\n",
      "3  2.508359e-09\n",
      "   random\n",
      "0  0.0000\n",
      "1  0.6710\n",
      "2  0.0000\n",
      "3  0.0000\n"
     ]
    }
   ],
   "source": [
    "'''Format or suppress scientific notations in a pandas dataframe. Suppress scientific notations like ‘e-03’ in df and print upto 4 numbers after decimal.\n",
    "Input\n",
    "df = pd.DataFrame(np.random.random(4)**10, columns=['random'])\n",
    "df\n",
    "#>          random\n",
    "#> 0  3.474280e-03\n",
    "#> 1  3.951517e-05\n",
    "#> 2  7.469702e-02\n",
    "#> 3  5.541282e-28'''\n",
    "df = pd.DataFrame(np.random.random(4)**10, columns=['random'])\n",
    "print(df)\n",
    "df['random'] = df['random'].apply(lambda x: '{:.4f}'.format(x))\n",
    "print(df)\n"
   ]
  },
  {
   "cell_type": "code",
   "execution_count": 91,
   "metadata": {},
   "outputs": [
    {
     "name": "stdout",
     "output_type": "stream",
     "text": [
      "    p   q   r   s nearest_row       dist\n",
      "a  55  25  10  97           i  55.461698\n",
      "b  30  18  66  40           h  42.684892\n",
      "c   9  39  78   8           h  32.710854\n",
      "d  90  22  58   2           g    35.1141\n",
      "e  67  53  51  75           f  29.614186\n",
      "f  99  32  96  25           d  46.411206\n",
      "g  71  79  64  79           e  29.614186\n",
      "h  77  20  34  24           d    35.1141\n",
      "i  41  42  72   7           c  32.710854\n",
      "j  65  41   6  45           h  42.544095\n"
     ]
    }
   ],
   "source": [
    "'''Create a new column that contains the row number of nearest column by euclidean distance. Create a new column such that, each row contains the row number of nearest row-record by euclidean distance.\n",
    "Input\n",
    "df = pd.DataFrame(np.random.randint(1,100, 40).reshape(10, -1), columns=list('pqrs'), index=list('abcdefghij'))\n",
    "df'''\n",
    "df = pd.DataFrame(np.random.randint(1, 100, 40).reshape(10, -1), columns=list('pqrs'), index=list('abcdefghij'))\n",
    "def euclidean_distance(row1, row2):\n",
    "    return np.linalg.norm(row1 - row2)\n",
    "df['nearest_row'] = ''\n",
    "df['dist'] = ''\n",
    "for index,row in df.iterrows():\n",
    "    list_row = [df.loc[i] for i in df.index if i != index]\n",
    "    distances_to_rows = [euclidean_distance(row[['p','q','r','s']], list_row[x][['p','q','r','s']]) for x in range(len(list_row))]\n",
    "    #a list within the euclidean_distance\n",
    "    min_index = np.argmin(distances_to_rows)\n",
    "    #the index of min\n",
    "    df.loc[index,'nearest_row'] = list(df.index)[min_index]\n",
    "    df.loc[index,'dist'] = distances_to_rows[min_index]\n",
    "print(df)"
   ]
  },
  {
   "cell_type": "code",
   "execution_count": 87,
   "metadata": {},
   "outputs": [
    {
     "name": "stdout",
     "output_type": "stream",
     "text": [
      "    A   B    C   D      E\n",
      "0  45  38   10  60  76.00\n",
      "1  37  31   15  99  98.00\n",
      "2   0   1  -10  15  -0.03\n",
      "3  42  26   17  23  78.00\n",
      "4  50  90  100  56  90.00\n",
      "          A         B         C         D         E\n",
      "A  1.000000  0.756038  0.624390  0.493811  0.928600\n",
      "B  0.756038  1.000000  0.966733  0.363559  0.649558\n",
      "C  0.624390  0.966733  1.000000  0.218860  0.528068\n",
      "D  0.493811  0.363559  0.218860  1.000000  0.720177\n",
      "E  0.928600  0.649558  0.528068  0.720177  1.000000\n"
     ]
    }
   ],
   "source": [
    "'''Correlation is a statistical technique that shows how two variables are related. Pandas dataframe.corr() method is used for creating the correlation matrix. It is used to find the pairwise correlation of all columns in the dataframe. Any na values are automatically excluded. For any non-numeric data type columns in the dataframe it is ignored.\n",
    "Input\n",
    "data = {'A': [45, 37, 0, 42, 50],\n",
    "        'B': [38, 31, 1, 26, 90],\n",
    "        'C': [10, 15, -10, 17, 100],\n",
    "        'D': [60, 99, 15, 23, 56],\n",
    "        'E': [76, 98, -0.03, 78, 90]\n",
    "        }'''\n",
    "data = {'A': [45, 37, 0, 42, 50],\n",
    "        'B': [38, 31, 1, 26, 90],\n",
    "        'C': [10, 15, -10, 17, 100],\n",
    "        'D': [60, 99, 15, 23, 56],\n",
    "        'E': [76, 98, -0.03, 78, 90]\n",
    "        }\n",
    "df = pd.DataFrame(data)\n",
    "df.corr()\n",
    "#Pandas dataframe.corr() method is used for creating the correlation matrix\n",
    "print(df)\n",
    "print(df.corr())\n"
   ]
  }
 ],
 "metadata": {
  "kernelspec": {
   "display_name": "Python 3",
   "language": "python",
   "name": "python3"
  },
  "language_info": {
   "codemirror_mode": {
    "name": "ipython",
    "version": 3
   },
   "file_extension": ".py",
   "mimetype": "text/x-python",
   "name": "python",
   "nbconvert_exporter": "python",
   "pygments_lexer": "ipython3",
   "version": "3.11.5"
  }
 },
 "nbformat": 4,
 "nbformat_minor": 2
}
