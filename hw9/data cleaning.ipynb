{
 "cells": [
  {
   "cell_type": "code",
   "execution_count": null,
   "metadata": {},
   "outputs": [],
   "source": [
    "'''\n",
    "#%% Libraries\n",
    "import pandas as pd\n",
    "import matplotlib.pyplot as plt\n",
    "import numpy as np\n",
    "\n",
    "#%% Importing Data\n",
    "flights_data = pd.read_csv('flights.csv')\n",
    "flights_data.head(10)\n",
    "weather_data_pd = pd.read_csv('weather.csv')\n",
    "weather_data_np = weather_data_pd.to_numpy()\n",
    "#%% Pandas Data Filtering/Sorting Question Answering\n",
    "#use flights_data\n",
    "\n",
    "#Question 1 How many flights were there from JFK to SLC? Int\n",
    "q_1 \n",
    "#Question 2 How many airlines fly to SLC? Should be int\n",
    "q_2 \n",
    "#Question 3 What is the average arrival delay for flights to RDU? float\n",
    "q_3\n",
    "#Question 4 What proportion of flights to SEA come from the two NYC airports (LGA and JFK)?  float\n",
    "q_4 \n",
    "#Question 5 Which date has the largest average depature delay? Pd slice with date and float\n",
    "#please make date a column. Preferred format is 2013/1/1 (y/m/d)\n",
    "q_5 \n",
    "#Question 6 Which date has the largest average arrival delay? pd slice with date and float\n",
    "q_6 \n",
    "#Question 7 Which flight departing LGA or JFK in 2013 flew the fastest? pd slice with tailnumber and speed\n",
    "#speed = distance/airtime\n",
    "q_7\n",
    "#Question 8 Replace all nans in the weather pd dataframe with 0s. Pd with no nans\n",
    "q_8 \n",
    "#%% Numpy Data Filtering/Sorting Question Answering\n",
    "#Use weather_data_np\n",
    "#Question 9 How many observations were made in Feburary? Int\n",
    "q_9 \n",
    "#Question 10 What was the mean for humidity in February? Float\n",
    "q_10\n",
    "#Question 11 What was the std for humidity in February? Float\n",
    "q_11\n",
    "'''"
   ]
  },
  {
   "cell_type": "code",
   "execution_count": 129,
   "metadata": {},
   "outputs": [
    {
     "name": "stdout",
     "output_type": "stream",
     "text": [
      "   Unnamed: 0  year  month  day  dep_time  dep_delay  arr_time  arr_delay  \\\n",
      "0           1  2013      1    1     517.0        2.0     830.0       11.0   \n",
      "1           2  2013      1    1     533.0        4.0     850.0       20.0   \n",
      "2           3  2013      1    1     542.0        2.0     923.0       33.0   \n",
      "3           4  2013      1    1     544.0       -1.0    1004.0      -18.0   \n",
      "4           5  2013      1    1     554.0       -6.0     812.0      -25.0   \n",
      "5           6  2013      1    1     554.0       -4.0     740.0       12.0   \n",
      "6           7  2013      1    1     555.0       -5.0     913.0       19.0   \n",
      "7           8  2013      1    1     557.0       -3.0     709.0      -14.0   \n",
      "8           9  2013      1    1     557.0       -3.0     838.0       -8.0   \n",
      "9          10  2013      1    1     558.0       -2.0     753.0        8.0   \n",
      "\n",
      "  carrier tailnum  flight origin dest  air_time  distance  hour  minute  \n",
      "0      UA  N14228    1545    EWR  IAH     227.0      1400   5.0    17.0  \n",
      "1      UA  N24211    1714    LGA  IAH     227.0      1416   5.0    33.0  \n",
      "2      AA  N619AA    1141    JFK  MIA     160.0      1089   5.0    42.0  \n",
      "3      B6  N804JB     725    JFK  BQN     183.0      1576   5.0    44.0  \n",
      "4      DL  N668DN     461    LGA  ATL     116.0       762   5.0    54.0  \n",
      "5      UA  N39463    1696    EWR  ORD     150.0       719   5.0    54.0  \n",
      "6      B6  N516JB     507    EWR  FLL     158.0      1065   5.0    55.0  \n",
      "7      EV  N829AS    5708    LGA  IAD      53.0       229   5.0    57.0  \n",
      "8      B6  N593JB      79    JFK  MCO     140.0       944   5.0    57.0  \n",
      "9      AA  N3ALAA     301    LGA  ORD     138.0       733   5.0    58.0  \n",
      "   Unnamed: 0 origin  year  month  day  hour   temp   dewp  humid  wind_dir  \\\n",
      "0           1    EWR  2013    1.0  1.0   0.0  37.04  21.92  53.97     230.0   \n",
      "1           2    EWR  2013    1.0  1.0   1.0  37.04  21.92  53.97     230.0   \n",
      "2           3    EWR  2013    1.0  1.0   2.0  37.94  21.92  52.09     230.0   \n",
      "3           4    EWR  2013    1.0  1.0   3.0  37.94  23.00  54.51     230.0   \n",
      "4           5    EWR  2013    1.0  1.0   4.0  37.94  24.08  57.04     240.0   \n",
      "5           6    EWR  2013    1.0  1.0   6.0  39.02  26.06  59.37     270.0   \n",
      "6           7    EWR  2013    1.0  1.0   7.0  39.02  26.96  61.63     250.0   \n",
      "7           8    EWR  2013    1.0  1.0   8.0  39.02  28.04  64.43     240.0   \n",
      "8           9    EWR  2013    1.0  1.0   9.0  39.92  28.04  62.21     250.0   \n",
      "9          10    EWR  2013    1.0  1.0  10.0  39.02  28.04  64.43     260.0   \n",
      "\n",
      "   wind_speed  wind_gust  precip  pressure  visib  \n",
      "0    10.35702  11.918651     0.0    1013.9   10.0  \n",
      "1    13.80936  15.891535     0.0    1013.0   10.0  \n",
      "2    12.65858  14.567241     0.0    1012.6   10.0  \n",
      "3    13.80936  15.891535     0.0    1012.7   10.0  \n",
      "4    14.96014  17.215830     0.0    1012.8   10.0  \n",
      "5    10.35702  11.918651     0.0    1012.0   10.0  \n",
      "6     8.05546   9.270062     0.0    1012.3   10.0  \n",
      "7    11.50780  13.242946     0.0    1012.5   10.0  \n",
      "8    12.65858  14.567241     0.0    1012.2   10.0  \n",
      "9    12.65858  14.567241     0.0    1011.9   10.0  \n"
     ]
    }
   ],
   "source": [
    "import pandas as pd\n",
    "import matplotlib.pyplot as plt\n",
    "import numpy as np\n",
    "#%% Importing Data\n",
    "flights_data = pd.read_csv('flights.csv')\n",
    "flights_data.head(10)\n",
    "weather_data_pd = pd.read_csv('weather.csv')\n",
    "weather_data_np = weather_data_pd.to_numpy()\n",
    "#%% Pandas Data Filtering/Sorting Question Answering\n",
    "#use flights_data\n",
    "print(flights_data.head(10))\n",
    "print(weather_data_pd.head(10))"
   ]
  },
  {
   "cell_type": "code",
   "execution_count": 40,
   "metadata": {},
   "outputs": [
    {
     "name": "stdout",
     "output_type": "stream",
     "text": [
      "2113\n"
     ]
    }
   ],
   "source": [
    "#Question 1 How many flights were there from JFK to SLC? Int\n",
    "#q_1\n",
    "df_bool_multi = flights_data[(flights_data['origin'] == 'JFK') & (flights_data['dest'] == 'SLC')]\n",
    "print(len(df_bool_multi))\n",
    "# sum the numbers of flights from JFK to SLC"
   ]
  },
  {
   "cell_type": "code",
   "execution_count": 47,
   "metadata": {},
   "outputs": [
    {
     "name": "stdout",
     "output_type": "stream",
     "text": [
      "2\n"
     ]
    }
   ],
   "source": [
    "#Question 2 How many airlines fly to SLC? Should be int\n",
    "#q_2\n",
    "df_bool_SLC = flights_data[(flights_data['dest'] == 'SLC')]\n",
    "print(df_bool_SLC['carrier'].nunique())\n",
    "# count the numbers of carrier to SLC"
   ]
  },
  {
   "cell_type": "code",
   "execution_count": 58,
   "metadata": {},
   "outputs": [
    {
     "name": "stdout",
     "output_type": "stream",
     "text": [
      "10.052380952380952\n"
     ]
    }
   ],
   "source": [
    "#Question 3 What is the average arrival delay for flights to RDU? float\n",
    "#q_3\n",
    "df_bool_RDU = flights_data[(flights_data['dest'] == 'RDU')]\n",
    "#choose the flights to RDU\n",
    "print(df_bool_RDU['arr_delay'].mean(axis=0, skipna=True))\n",
    "#calculate the average arrival delay"
   ]
  },
  {
   "cell_type": "code",
   "execution_count": 73,
   "metadata": {},
   "outputs": [
    {
     "name": "stdout",
     "output_type": "stream",
     "text": [
      "0.5332653581442773\n"
     ]
    }
   ],
   "source": [
    "#Question 4 What proportion of flights to SEA come from the two NYC airports (LGA and JFK)?  float\n",
    "#q_4 \n",
    "df_bool_SEA = flights_data[flights_data['dest'] == 'SEA']\n",
    "#choose the flights to SEA\n",
    "df_bool_NYC = df_bool_SEA[(df_bool_SEA['origin'] == 'LGA') | (df_bool_SEA['origin'] == 'JFK')]\n",
    "#choose the flights from LGA and JFK\n",
    "print(len(df_bool_NYC)/len(df_bool_SEA))\n",
    "#print the proportion"
   ]
  },
  {
   "cell_type": "code",
   "execution_count": 132,
   "metadata": {},
   "outputs": [
    {
     "name": "stdout",
     "output_type": "stream",
     "text": [
      "2013/3/8\n",
      "83.5369211514393\n"
     ]
    }
   ],
   "source": [
    "#Question 5 Which date has the largest average depature delay? Pd slice with date and float\n",
    "#please make date a column. Preferred format is 2013/1/1 (y/m/d)\n",
    "#q_5 \n",
    "flights_data['date'] = flights_data['year'].astype(str) + \"/\" + flights_data['month'].astype(str) + \"/\" + flights_data['day'].astype(str)\n",
    "#make date a column\n",
    "delay = flights_data.groupby('date')['dep_delay'].mean()\n",
    "print(delay.idxmax())\n",
    "print(delay[delay.idxmax()])\n",
    "#print the largest average depature delay"
   ]
  },
  {
   "cell_type": "code",
   "execution_count": 134,
   "metadata": {},
   "outputs": [
    {
     "name": "stdout",
     "output_type": "stream",
     "text": [
      "2013/3/8\n",
      "85.86215538847118\n"
     ]
    }
   ],
   "source": [
    "#Question 6 Which date has the largest average arrival delay? pd slice with date and float\n",
    "#q_6 \n",
    "delay2 = flights_data.groupby('date')['arr_delay'].mean()\n",
    "print(delay2.idxmax())\n",
    "print(delay2[delay2.idxmax()])\n",
    "#print the largest average arrival delay"
   ]
  },
  {
   "cell_type": "code",
   "execution_count": 154,
   "metadata": {},
   "outputs": [
    {
     "name": "stdout",
     "output_type": "stream",
     "text": [
      "tailnum       N666DN\n",
      "speed      11.723077\n",
      "Name: 216447, dtype: object\n"
     ]
    },
    {
     "name": "stderr",
     "output_type": "stream",
     "text": [
      "C:\\Users\\xxcxx\\AppData\\Local\\Temp\\ipykernel_50748\\2849601100.py:6: SettingWithCopyWarning: \n",
      "A value is trying to be set on a copy of a slice from a DataFrame.\n",
      "Try using .loc[row_indexer,col_indexer] = value instead\n",
      "\n",
      "See the caveats in the documentation: https://pandas.pydata.org/pandas-docs/stable/user_guide/indexing.html#returning-a-view-versus-a-copy\n",
      "  df_bool_multi2['speed'] = df_bool_multi2['distance']/df_bool_multi2['air_time']\n"
     ]
    }
   ],
   "source": [
    "#Question 7 Which flight departing LGA or JFK in 2013 flew the fastest? pd slice with tailnumber and speed\n",
    "#speed = distance/airtime\n",
    "#q_7\n",
    "df_bool_multi2 = flights_data[((flights_data['origin'] == 'LGA') | (flights_data['origin'] == 'JFK')) & (flights_data['year'] == 2013)]\n",
    "#choose the flight departing LGA or JFK in 2013\n",
    "df_bool_multi2['speed'] = df_bool_multi2['distance']/df_bool_multi2['air_time']\n",
    "#speed = distance/airtime\n",
    "print(df_bool_multi2.loc[df_bool_multi2['speed'].idxmax(),['tailnum','speed']])\n",
    "#tailnumber and speed\n"
   ]
  },
  {
   "cell_type": "code",
   "execution_count": 161,
   "metadata": {},
   "outputs": [
    {
     "name": "stdout",
     "output_type": "stream",
     "text": [
      "      Unnamed: 0 origin  year  month   day  hour   temp   dewp  humid  \\\n",
      "0              1    EWR  2013    1.0   1.0   0.0  37.04  21.92  53.97   \n",
      "1              2    EWR  2013    1.0   1.0   1.0  37.04  21.92  53.97   \n",
      "2              3    EWR  2013    1.0   1.0   2.0  37.94  21.92  52.09   \n",
      "3              4    EWR  2013    1.0   1.0   3.0  37.94  23.00  54.51   \n",
      "4              5    EWR  2013    1.0   1.0   4.0  37.94  24.08  57.04   \n",
      "...          ...    ...   ...    ...   ...   ...    ...    ...    ...   \n",
      "8714        8715    JFK  2013    9.0   2.0  20.0  75.20  73.40  94.14   \n",
      "8715        8716    JFK  2013   10.0  23.0  10.0  48.92  39.02  68.51   \n",
      "8716        8717    JFK  2013   10.0  23.0  11.0  48.92  39.02  68.51   \n",
      "8717        8718    JFK  2013   12.0  17.0   5.0  26.96  10.94  50.34   \n",
      "8718        8719    LGA  2013    8.0  22.0  22.0  75.92  66.92  73.68   \n",
      "\n",
      "      wind_dir  wind_speed  wind_gust  precip  pressure  visib  \n",
      "0        230.0    10.35702  11.918651     0.0    1013.9   10.0  \n",
      "1        230.0    13.80936  15.891535     0.0    1013.0   10.0  \n",
      "2        230.0    12.65858  14.567241     0.0    1012.6   10.0  \n",
      "3        230.0    13.80936  15.891535     0.0    1012.7   10.0  \n",
      "4        240.0    14.96014  17.215830     0.0    1012.8   10.0  \n",
      "...        ...         ...        ...     ...       ...    ...  \n",
      "8714     200.0     4.60312   5.297178     0.0       0.0    4.0  \n",
      "8715      60.0     4.60312   5.297178     0.0    1008.1   10.0  \n",
      "8716      40.0     4.60312   5.297178     0.0    1008.5   10.0  \n",
      "8717      40.0     4.60312   5.297178     0.0    1023.9   10.0  \n",
      "8718     210.0     8.05546   9.270062     0.0    1011.9   10.0  \n",
      "\n",
      "[8719 rows x 15 columns]\n"
     ]
    }
   ],
   "source": [
    "#Question 8 Replace all nans in the weather pd dataframe with 0s. Pd with no nans\n",
    "#q_8 \n",
    "print(weather_data_pd.fillna(0))\n",
    "#Replace all nans"
   ]
  },
  {
   "cell_type": "code",
   "execution_count": 178,
   "metadata": {},
   "outputs": [
    {
     "name": "stdout",
     "output_type": "stream",
     "text": [
      "[[1 'EWR' 2013 ... 0.0 1013.9 10.0]\n",
      " [2 'EWR' 2013 ... 0.0 1013.0 10.0]\n",
      " [3 'EWR' 2013 ... 0.0 1012.6 10.0]\n",
      " ...\n",
      " [8717 'JFK' 2013 ... 0.0 1008.5 10.0]\n",
      " [8718 'JFK' 2013 ... 0.0 1023.9 10.0]\n",
      " [8719 'LGA' 2013 ... 0.0 1011.9 10.0]]\n",
      "671\n"
     ]
    }
   ],
   "source": [
    "#%% Numpy Data Filtering/Sorting Question Answering\n",
    "#Use weather_data_np\n",
    "#Question 9 How many observations were made in Feburary? Int\n",
    "#q_9 \n",
    "print(weather_data_np)\n",
    "print(len(weather_data_np[weather_data_np[:,3] == 2]))\n",
    "#month = 2"
   ]
  },
  {
   "cell_type": "code",
   "execution_count": 183,
   "metadata": {},
   "outputs": [
    {
     "name": "stdout",
     "output_type": "stream",
     "text": [
      "62.918152011922515\n"
     ]
    }
   ],
   "source": [
    "#Question 10 What was the mean for humidity in February? Float\n",
    "#q_10\n",
    "February = weather_data_np[weather_data_np[:,3] == 2]\n",
    "print(np.mean(February[:,8]))\n",
    "#mean for humidity"
   ]
  },
  {
   "cell_type": "code",
   "execution_count": 185,
   "metadata": {},
   "outputs": [
    {
     "name": "stdout",
     "output_type": "stream",
     "text": [
      "20.33690087674334\n"
     ]
    }
   ],
   "source": [
    "#Question 11 What was the std for humidity in February? Float\n",
    "#q_11\n",
    "print(np.std(February[:,8]))\n",
    "#std for humidity"
   ]
  }
 ],
 "metadata": {
  "kernelspec": {
   "display_name": "Python 3",
   "language": "python",
   "name": "python3"
  },
  "language_info": {
   "codemirror_mode": {
    "name": "ipython",
    "version": 3
   },
   "file_extension": ".py",
   "mimetype": "text/x-python",
   "name": "python",
   "nbconvert_exporter": "python",
   "pygments_lexer": "ipython3",
   "version": "3.11.5"
  }
 },
 "nbformat": 4,
 "nbformat_minor": 2
}
