{
 "cells": [
  {
   "cell_type": "code",
   "execution_count": 3,
   "metadata": {},
   "outputs": [],
   "source": [
    "\"\"\"\n",
    "1. OpenCV (Open Source Computer Vision Library: http://opencv.org) is an open-source BSD-licensed library that includes several hundreds of computer vision algorithms.\n",
    "Officially launched in 1999 the OpenCV project was initially an Intel Research initiative to advance CPU-intensive applications, part of a series of projects including real-time ray tracing and 3D display walls.\n",
    "2. Advantages of using opencv-python:\n",
    "Cross-Platform: OpenCV is cross-platform and can be used on Windows, Linux, and macOS, making it versatile for various operating systems.\n",
    "Open Source: OpenCV is an open-source library, which means it is freely available and can be customized to suit specific needs. It also has a large community of developers contributing to its improvement.\n",
    "Real-time Processing: OpenCV is optimized for real-time image and video processing, making it suitable for applications such as object detection, tracking, and facial recognition.\n",
    "\n",
    "Limitations of using opencv-python:\n",
    "Pythonic Interfaces: Some developers find the Python wrappers (such as opencv-python) to be less \"Pythonic\" compared to other libraries, which might affect code readability and ease of use.\n",
    "Limited Deep Learning Support: While OpenCV provides tools for traditional computer vision tasks, its support for deep learning models is more limited compared to specialized deep learning libraries like TensorFlow or PyTorch. For deep learning tasks, using a combination of OpenCV with these libraries might be necessary.\n",
    "\"\"\""
   ]
  },
  {
   "cell_type": "code",
   "execution_count": 6,
   "metadata": {},
   "outputs": [],
   "source": [
    "import cv2 as cv\n",
    "\n",
    "# Read an image file\n",
    "image = cv.imread('Utah_teapot_simple_2.png')\n",
    "\n",
    "# Display the image\n",
    "cv.imshow('Image', image)\n",
    "cv.waitKey(0)\n",
    "cv.destroyAllWindows()"
   ]
  },
  {
   "cell_type": "code",
   "execution_count": 7,
   "metadata": {},
   "outputs": [],
   "source": [
    "# Blur the image\n",
    "blurred_image = cv.blur(image, (5, 5))\n",
    "\n",
    "# Display the blurred image\n",
    "cv.imshow('Blurred Image', blurred_image)\n",
    "cv.waitKey(0)\n",
    "cv.destroyAllWindows()"
   ]
  }
 ],
 "metadata": {
  "kernelspec": {
   "display_name": "dalao",
   "language": "python",
   "name": "python3"
  },
  "language_info": {
   "codemirror_mode": {
    "name": "ipython",
    "version": 3
   },
   "file_extension": ".py",
   "mimetype": "text/x-python",
   "name": "python",
   "nbconvert_exporter": "python",
   "pygments_lexer": "ipython3",
   "version": "3.12.0"
  }
 },
 "nbformat": 4,
 "nbformat_minor": 2
}
